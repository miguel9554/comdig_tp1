{
 "cells": [
  {
   "cell_type": "markdown",
   "id": "3858c495-ba8f-42fe-8950-ebd6fb8a864a",
   "metadata": {},
   "source": [
    "### Ejercicio 4\n",
    "\n",
    "Tenemos el siguiente filtro\n",
    "\n",
    "$$ y[n] = \\alpha y[n-1] + (1-\\alpha)x[n] $$ \n",
    "\n",
    "con $ \\alpha < 1$."
   ]
  },
  {
   "cell_type": "markdown",
   "id": "e04ec6e5-2ccc-4d10-af49-3539a81b6d69",
   "metadata": {},
   "source": [
    "#### Ejercicio 4, parte a\n",
    "\n",
    "Sabemos que la transformada zeta de una ecuación en diferencias general de la siguiente forma,\n",
    "\n",
    "$$ y[n] = -\\sum_{k=1}^{N} \\left( \\frac{a_k}{a_0} \\right) y[n-k] +  \\sum_{k=0}^{M} \\left( \\frac{b_k}{a_0} \\right) x[n-k] $$\n",
    "\n",
    "es la siguiente\n",
    "\n",
    "$$ H(z) = \\frac{\\sum_{k=0}^{M} b_k z^{-k} }{\\sum_{k=0}^{N} a_k z^{-k} } $$\n",
    "\n",
    "Siendo que la respuesta en frecuencia no es más que la evaluación de la transformada zeta en el circulo unitario, esta es\n",
    "\n",
    "$$ H(e^{j\\omega}) = \\frac{\\sum_{k=0}^{M} b_k e^{-j\\omega k } }{\\sum_{k=0}^{N} a_k e^{-j\\omega k } } $$\n",
    "\n",
    "En nuestro caso, vamos que $N=1$, $M=0$, $a_0=1$, $a_1=-\\alpha$ y $b_0=1-\\alpha$.\n",
    "\n",
    "La respuesta en frecuencia entonces es\n",
    "\n",
    "$$ H(e^{j\\omega}) = \\frac{1-\\alpha}{1-\\alpha e^{-j\\omega} } $$"
   ]
  },
  {
   "cell_type": "markdown",
   "id": "5234d2f6-9407-418b-9a26-f3962780b576",
   "metadata": {},
   "source": [
    "### Ejercicio 4, parte b\n",
    "\n",
    "Aplicamos una entrada $x[n]=\\delta[n]$. Asumiendo $y[-1]=0$, tenemos\n",
    "\n",
    "$$ n=0, y[0] = \\alpha y[-1] + (1-\\alpha)\\delta[0] = 1-\\alpha $$\n",
    "$$ n=1, y[1] = \\alpha y[0] + (1-\\alpha)\\delta[1] = \\alpha(1-\\alpha) $$\n",
    "$$ n=2, y[2] = \\alpha y[1] + (1-\\alpha)\\delta[2] = \\alpha^2(1-\\alpha) $$\n",
    "\n",
    "De manera general, vemos que la respuesta al impulso es\n",
    "\n",
    "$$ \\alpha^n (1-\\alpha) u[n] $$"
   ]
  },
  {
   "cell_type": "markdown",
   "id": "b6932912-9d85-4ca8-9baf-75a26534f0f6",
   "metadata": {},
   "source": [
    "### Ejercicio 4, parte c\n",
    "\n",
    "Sabemos que la respuesta al impulso es la antitransformada de la respuesta en frecuencia.\n",
    "\n",
    "Podemos encontrar la antitransformada basándonos en el par\n",
    "\n",
    "$$ a^n u[n] \\iff \\frac{1}{1-a e^{-j\\omega}} $$ \n",
    "\n",
    "Entonces,\n",
    "\n",
    "$$ (1-\\alpha) \\alpha^n u[n] \\iff \\frac{(1-\\alpha)}{1-\\alpha e^{-j\\omega}} $$ \n",
    "\n",
    "La respuesta al impulso es, entonces\n",
    "\n",
    "$$ y[n] = (1-\\alpha) \\alpha^n u[n] $$ "
   ]
  },
  {
   "cell_type": "markdown",
   "id": "a58fea3e-04c9-4d0b-851c-278469f5615b",
   "metadata": {},
   "source": [
    "#### Ejercicio 4, parte d"
   ]
  },
  {
   "cell_type": "code",
   "execution_count": null,
   "id": "e8234ae7-f54c-4be5-bd56-309e8edc873d",
   "metadata": {},
   "outputs": [],
   "source": [
    "import numpy as np\n",
    "import plotly.graph_objs as go\n",
    "import plotly.subplots as sp\n",
    "\n",
    "# Definir la función lambda para la respuesta en frecuencia\n",
    "H = lambda alpha, omega: (1-alpha) / (1-alpha*  np.exp(-1j * omega) )\n",
    "\n",
    "alpha = 0.95\n",
    "omega = np.linspace(-np.pi, np.pi, 1000)\n",
    "H_alpha = H(alpha, omega)\n",
    "\n",
    "magnitud = np.abs(H_alpha)\n",
    "fase = np.angle(H_alpha)\n",
    "\n",
    "# Generar la señal cuadrada\n",
    "N_fft = 1024\n",
    "impulse_response = lambda N, alpha: (1 - alpha) * alpha ** np.arange(N)\n",
    "signal = impulse_response(N_fft, alpha)\n",
    "\n",
    "\n",
    "# Calcular la FFT de la señal\n",
    "fft_signal = np.fft.fftshift(np.fft.fft(signal))\n",
    "omega_fft = np.fft.fftshift(np.fft.fftfreq(len(signal))) * 2 * np.pi\n",
    "\n",
    "magnitud_fft = np.abs(fft_signal)\n",
    "fase_fft = np.angle(fft_signal)\n",
    "\n",
    "# Crear la figura de comparación\n",
    "fig = sp.make_subplots(rows=2, cols=1, subplot_titles=('Comparación de Magnitud', 'Comparación de Fase'))\n",
    "\n",
    "fig.add_trace(go.Scatter(x=omega, y=magnitud, name='Teórico Magnitud'), row=1, col=1)\n",
    "fig.add_trace(go.Scatter(x=omega_fft, y=magnitud_fft, name='FFT Magnitud', mode='lines'), row=1, col=1)\n",
    "fig.add_trace(go.Scatter(x=omega, y=fase, name='Teórico Fase'), row=2, col=1)\n",
    "fig.add_trace(go.Scatter(x=omega_fft, y=fase_fft, name='FFT Fase', mode='lines'), row=2, col=1)\n",
    "\n",
    "# Configurar los ticks del eje X en unidades de pi\n",
    "pi_ticks = [-np.pi, -np.pi/2, 0, np.pi/2, np.pi]\n",
    "pi_tick_labels = ['-π', '-π/2', '0', 'π/2', 'π']\n",
    "\n",
    "fig.update_xaxes(\n",
    "    tickvals=pi_ticks,\n",
    "    ticktext=pi_tick_labels,\n",
    "    title_text='ω (radianes)',\n",
    "    row=1, col=1\n",
    ")\n",
    "fig.update_xaxes(\n",
    "    tickvals=pi_ticks,\n",
    "    ticktext=pi_tick_labels,\n",
    "    title_text='ω (radianes)',\n",
    "    row=2, col=1\n",
    ")\n",
    "\n",
    "fig.update_layout(height=600, width=800, title_text=\"Comparación de Respuesta en Frecuencia\")\n",
    "fig.show()"
   ]
  },
  {
   "cell_type": "markdown",
   "id": "5d691fff-7f83-4f5f-9fa1-6cd938215ff9",
   "metadata": {},
   "source": [
    "#### Ejercicio 4, parte e\n",
    "\n",
    "```\n",
    "¿A partir de qué valor de n (positivo), la respuesta se hace 0 (desde una perspectiva\n",
    "matemática)? ¿La salida actual depende solo de las entradas actuales y anteriores, o\n",
    "de algo mas?\n",
    "```\n",
    "\n",
    "Desde un punto de vista estríctamente matemático, la respuesta nunca se hace 0, es decir, tiene una duración **infinita**. La salida depende de las entradas actuales y las anteriores, y en teoría, de **todas** las entradas pasadas, es decir, de toda la historia. De todas maneras, el peso de cada muestra decae exponencialmente con su distancia temporal.\n",
    "\n",
    "```\n",
    "¿Qué sucede en el caso del filtro de promedios móviles del ejercicio anterior? Si al\n",
    "filtro recursivo de este ejercicio se lo denomina IIR, ¿Cómo se denomina al filtro\n",
    "no-recursivo del punto anterior?\n",
    "```\n",
    "\n",
    "En el caso del filtro del ejercicio anterior, era claro a partir de que $n$ se volvía $0$ la respuesta, ya que esta era una señal cuadrada. En este caso el filtro se denomina FIR"
   ]
  },
  {
   "cell_type": "markdown",
   "id": "680805e7-dce8-4d1d-bca3-e317385c3f0b",
   "metadata": {},
   "source": [
    "#### Ejercicio 4, parte f"
   ]
  },
  {
   "cell_type": "code",
   "execution_count": null,
   "id": "e89036e8-85f9-40ea-92fe-23d2d5d5f51d",
   "metadata": {},
   "outputs": [],
   "source": [
    "omega = np.linspace(-np.pi, np.pi, 1000)\n",
    "alpha_values = np.linspace(0.5, 0.99, 5)\n",
    "\n",
    "fig = sp.make_subplots(rows=1, cols=1, subplot_titles=('Magnitud Teórica'))\n",
    "\n",
    "colors = ['blue', 'green', 'red', 'purple', 'orange']\n",
    "for i, alpha in enumerate(alpha_values):\n",
    "    H_alpha = H(alpha, omega)\n",
    "    magnitud = np.abs(H_alpha)\n",
    "    \n",
    "    fig.add_trace(go.Scatter(x=omega, y=magnitud, mode='lines', name=f'α={alpha:.2f}', line=dict(color=colors[i])), row=1, col=1)\n",
    "\n",
    "# Configurar los ticks del eje X en unidades de pi\n",
    "pi_ticks = [-np.pi, -np.pi/2, 0, np.pi/2, np.pi]\n",
    "pi_tick_labels = ['-π', '-π/2', '0', 'π/2', 'π']\n",
    "\n",
    "fig.update_xaxes(\n",
    "    tickvals=pi_ticks,\n",
    "    ticktext=pi_tick_labels,\n",
    "    title_text='ω (radianes)',\n",
    "    row=1, col=1\n",
    ")\n",
    "\n",
    "fig.update_layout(height=600, width=800, title_text=\"Magnitud Teórica de la Respuesta en Frecuencia para diferentes α\")\n",
    "fig.show()"
   ]
  },
  {
   "cell_type": "markdown",
   "id": "73b3c100-4501-4c01-9f72-fd2a841e8e77",
   "metadata": {},
   "source": [
    "#### Ejercicio 4, parte g\n",
    "\n",
    "Comparamos los anchos de banda a $3 \\text{dB}$ de los filtros. Este ancho de banda lo encontramos buscando la frecuencia en la que la magnitud cae en $\\frac{1}{\\sqrt{2}}$. Iterando, encontramos que\n",
    "\n",
    "* Filtro IIR: ancho de banda con $\\alpha=0.95$: $0.0534 \\ \\text{rad}$\n",
    "* Filtro FIR: ancho de banda con $M=55$: $0.05 \\ \\text{rad}$\n",
    "\n",
    "Vemos que para alcanzar el desempeño del IIR con $\\alpha=0.95$ necesitamos un promediador móvil de $M=55$ muestras. En cuanto a complejidad, el IIR necesita un elemento de memoria y una multiplicación por ciclo, mientras que el FIR requiere 55 de ambas.\n",
    "\n",
    "Es claro que el IIR es la solución de menor complejidad. Qué filtro es preferido dependerá de las restricciones de desempeño. Es de interés resaltar que el IIR presenta fase no-lineal, lo que puede ser problemático.\n",
    "\n",
    "Si la única restricción de diseño fuera la complejidad, el IIR es preferido."
   ]
  }
 ],
 "metadata": {
  "language_info": {
   "name": "python"
  }
 },
 "nbformat": 4,
 "nbformat_minor": 5
}
