{
 "cells": [
  {
   "cell_type": "markdown",
   "id": "0e1ca364-dedd-4aa8-b624-63b817e28db2",
   "metadata": {},
   "source": [
    "## Ejercicio 3\n",
    "\n",
    "La ecuación en diferencias es \n",
    "\n",
    "$$ y[n] = \\frac{1}{M_1+M_2+1} \\sum_{k=-M_1}^{k=M_2} x[n-k] $$\n",
    "\n",
    "Con $M_1=0$ y $M_2=4$."
   ]
  },
  {
   "cell_type": "markdown",
   "id": "1f563bdf-e9ed-427a-9f35-39808d15ebfb",
   "metadata": {},
   "source": [
    "### Ejercicio 3 parte a\n",
    "\n",
    "Obtenemos la respuesta al impulso aplicando una delta a la entrada, es decir $x[n]=\\delta[n]$.\n",
    "\n",
    "Para resolverlo, tenemos en cuenta que \n",
    "\n",
    "$$ \\sum_{k=-M_1}^{k=M_2} \\delta[n-k] = \n",
    "\\begin{cases} \n",
    "1 & \\text{si } -M_1 \\leq n \\leq M_2 \\\\\n",
    "0 & \\text{demás casos }\n",
    "\\end{cases}\n",
    "$$\n",
    "\n",
    "Es una función cuadrada entre $-M_1$ y $M_2$. Podemos expresarla como\n",
    "\n",
    "$$ \\sum_{k=-M_1}^{k=M_2} \\delta[n-k] = u[n+M_1]-u[n-M_2-1] $$\n",
    "\n",
    "siendo $u[n]$ la función escalón.\n",
    "\n",
    "Entonces, la respuesta al impulso es\n",
    "\n",
    "$$ y[n] = \\frac{1}{M_1+M_2+1} u[n+M_1]-u[n-M_2-1] $$\n",
    "\n",
    "Para los valores dados de $M_1=0$ y $M_2=4$, es una cuadrada entre $0$ y $4$ con altura $\\frac{1}{M_1+M_2+1}=\\frac{1}{0+4+1}=0.2$"
   ]
  },
  {
   "cell_type": "markdown",
   "id": "3cf63dd7-2b4b-4170-a3ee-372d0d59c353",
   "metadata": {},
   "source": [
    "### Ejercicio 3 parte b\n",
    "\n",
    "Para obtener la respuesta en frecuencia, consultamos la tabla de transformadas 2.3 en la página 62 de Oppehnheim Schafer. Vemos que se establece el par\n",
    "\n",
    "$$ \n",
    "\\begin{cases} \n",
    "1 & \\text{si } 0 \\leq n \\leq M \\\\\n",
    "0 & \\text{demás casos }\n",
    "\\end{cases} \\iff \\frac{\\sin(\\omega (M+1)/2)}{\\sin(\\omega/2)} e^{-j\\omega M/2}\n",
    "$$\n",
    "\n",
    "Considerando en nuestro caso que $M_1=0$ Podemos aplicar directamente la expresión. Sino, deberíamos aplicar la propiedad de desfasaje. Dejando genérico $M_2$ con valor $M$, llegamos a que nuestra respuesta en frecuencia es:\n",
    "\n",
    "$$ \\frac{1}{M+1} \\frac{\\sin(\\omega (M+1)/2)}{\\sin(\\omega/2)} e^{-j\\omega M/2} $$ \n",
    "\n",
    "En nuestro caso es $M=4$ y tenemos un factor de escala de $0.2$. Entonces la respuesta en frecuencia es\n",
    "\n",
    "$$ 0.2 \\frac{\\sin(2.5 \\omega )}{\\sin(\\omega/2)} e^{-j\\omega 2} $$ "
   ]
  },
  {
   "cell_type": "markdown",
   "id": "97f3c188-9c09-451a-89fa-ee3456ced8f9",
   "metadata": {},
   "source": [
    "### Ejercicio 3 parte c"
   ]
  },
  {
   "cell_type": "code",
   "execution_count": null,
   "id": "3f1ce76c-7a7f-4d13-9fe9-c2db399fc69c",
   "metadata": {},
   "outputs": [],
   "source": [
    "import numpy as np\n",
    "import plotly.graph_objs as go\n",
    "import plotly.subplots as sp\n",
    "\n",
    "# Definir la función lambda para la respuesta en frecuencia\n",
    "H = lambda M, omega: (1/(M+1)) * (np.sin(omega * (M+1) / 2) / np.sin(omega / 2)) * np.exp(-1j * omega * M / 2)\n",
    "\n",
    "M = 4\n",
    "omega = np.linspace(-np.pi, np.pi, 1000)\n",
    "H_M = H(M, omega)\n",
    "\n",
    "magnitud = np.abs(H_M)\n",
    "fase = np.angle(H_M)\n",
    "\n",
    "fig = sp.make_subplots(rows=2, cols=1, subplot_titles=('Magnitud', 'Fase'))\n",
    "\n",
    "fig.add_trace(go.Scatter(x=omega, y=magnitud, name='Magnitud'), row=1, col=1)\n",
    "fig.add_trace(go.Scatter(x=omega, y=fase, name='Fase'), row=2, col=1)\n",
    "\n",
    "# Configurar los ticks del eje X en unidades de pi\n",
    "pi_ticks = [-np.pi, -np.pi/2, 0, np.pi/2, np.pi]\n",
    "pi_tick_labels = ['-π', '-π/2', '0', 'π/2', 'π']\n",
    "\n",
    "fig.update_xaxes(\n",
    "    tickvals=pi_ticks,\n",
    "    ticktext=pi_tick_labels,\n",
    "    title_text='ω (radianes)',\n",
    "    row=1, col=1\n",
    ")\n",
    "fig.update_xaxes(\n",
    "    tickvals=pi_ticks,\n",
    "    ticktext=pi_tick_labels,\n",
    "    title_text='ω (radianes)',\n",
    "    row=2, col=1\n",
    ")\n",
    "\n",
    "fig.update_layout(height=600, width=800, title_text=\"Respuesta en Frecuencia\")\n",
    "fig.show()"
   ]
  },
  {
   "cell_type": "markdown",
   "id": "4ca6d43b-fe00-469e-9a06-ecab85158f3a",
   "metadata": {},
   "source": [
    "El filtro obtenido es pasabajos, ya que tiene una banda de paso alrededor de frecuencia 0, y atenuación en frecuencias superiores."
   ]
  },
  {
   "cell_type": "markdown",
   "id": "3fefd9ec-f449-4c4c-9267-fe15f1d1cb12",
   "metadata": {},
   "source": [
    "### Ejercicio 3 parte d"
   ]
  },
  {
   "cell_type": "code",
   "execution_count": null,
   "id": "544ed4f2-77c3-4301-9fa7-0388af266c37",
   "metadata": {},
   "outputs": [],
   "source": [
    "# Generar la señal cuadrada\n",
    "N_fft = 1024\n",
    "signal = np.zeros(N_fft)\n",
    "signal[:M] = 1 / (M + 1)\n",
    "\n",
    "# Calcular la FFT de la señal\n",
    "fft_signal = np.fft.fftshift(np.fft.fft(signal))\n",
    "omega_fft = np.fft.fftshift(np.fft.fftfreq(len(signal))) * 2 * np.pi\n",
    "\n",
    "magnitud_fft = np.abs(fft_signal)\n",
    "fase_fft = np.angle(fft_signal)\n",
    "\n",
    "# Crear la figura de comparación\n",
    "fig = sp.make_subplots(rows=2, cols=1, subplot_titles=('Comparación de Magnitud', 'Comparación de Fase'))\n",
    "\n",
    "fig.add_trace(go.Scatter(x=omega, y=magnitud, name='Teórico Magnitud'), row=1, col=1)\n",
    "fig.add_trace(go.Scatter(x=omega_fft, y=magnitud_fft, name='FFT Magnitud', mode='lines'), row=1, col=1)\n",
    "fig.add_trace(go.Scatter(x=omega, y=fase, name='Teórico Fase'), row=2, col=1)\n",
    "fig.add_trace(go.Scatter(x=omega_fft, y=fase_fft, name='FFT Fase', mode='lines'), row=2, col=1)\n",
    "\n",
    "# Configurar los ticks del eje X en unidades de pi\n",
    "pi_ticks = [-np.pi, -np.pi/2, 0, np.pi/2, np.pi]\n",
    "pi_tick_labels = ['-π', '-π/2', '0', 'π/2', 'π']\n",
    "\n",
    "fig.update_xaxes(\n",
    "    tickvals=pi_ticks,\n",
    "    ticktext=pi_tick_labels,\n",
    "    title_text='ω (radianes)',\n",
    "    row=1, col=1\n",
    ")\n",
    "fig.update_xaxes(\n",
    "    tickvals=pi_ticks,\n",
    "    ticktext=pi_tick_labels,\n",
    "    title_text='ω (radianes)',\n",
    "    row=2, col=1\n",
    ")\n",
    "\n",
    "fig.update_layout(height=600, width=800, title_text=\"Comparación de Respuesta en Frecuencia\")\n",
    "fig.show()"
   ]
  },
  {
   "cell_type": "markdown",
   "id": "80d31829-29d0-4a0e-b370-0b308717be58",
   "metadata": {},
   "source": [
    "### Ejercicio 3 parte e\n",
    "\n",
    "Sí, la salida depende de entradas anteriores, ya que es el promedio de las últimas $M$ muestras.\n",
    "\n",
    "Este tipo de filtros en los que la salida depende de salidas anteriores se denominan **con memoria**."
   ]
  },
  {
   "cell_type": "markdown",
   "id": "c1fb1377-f8a0-436d-a78a-aa5b2c77e675",
   "metadata": {},
   "source": [
    "### Ejercicio 3 parte f"
   ]
  },
  {
   "cell_type": "code",
   "execution_count": null,
   "id": "3d0012ff-6cd5-490c-974d-6bd26fc9c140",
   "metadata": {},
   "outputs": [],
   "source": [
    "# Definir la función lambda para la respuesta en frecuencia\n",
    "H = lambda M, omega: (1/(M+1)) * (np.sin(omega * (M+1) / 2) / np.sin(omega / 2)) * np.exp(-1j * omega * M / 2)\n",
    "\n",
    "omega = np.linspace(-np.pi, np.pi, 1000)\n",
    "M_values = [4, 8, 16, 32]\n",
    "\n",
    "fig = sp.make_subplots(rows=2, cols=1, subplot_titles=('Magnitud', 'Fase'))\n",
    "\n",
    "# Configurar los ticks del eje X en unidades de pi\n",
    "pi_ticks = [-np.pi, -np.pi/2, 0, np.pi/2, np.pi]\n",
    "pi_tick_labels = ['-π', '-π/2', '0', 'π/2', 'π']\n",
    "\n",
    "colors = ['blue', 'green', 'red', 'purple']\n",
    "for i, M in enumerate(M_values):\n",
    "    H_M = H(M, omega)\n",
    "    magnitud = np.abs(H_M)\n",
    "    fase = np.angle(H_M)\n",
    "    \n",
    "    fig.add_trace(go.Scatter(x=omega, y=magnitud, mode='lines', name=f'Magnitud M={M}', line=dict(color=colors[i])), row=1, col=1)\n",
    "    fig.add_trace(go.Scatter(x=omega, y=fase, mode='lines', name=f'Fase M={M}', line=dict(color=colors[i])), row=2, col=1)\n",
    "\n",
    "fig.update_xaxes(\n",
    "    tickvals=pi_ticks,\n",
    "    ticktext=pi_tick_labels,\n",
    "    title_text='ω (radianes)',\n",
    "    row=1, col=1\n",
    ")\n",
    "fig.update_xaxes(\n",
    "    tickvals=pi_ticks,\n",
    "    ticktext=pi_tick_labels,\n",
    "    title_text='ω (radianes)',\n",
    "    row=2, col=1\n",
    ")\n",
    "\n",
    "fig.update_layout(height=600, width=800, title_text=\"Respuesta en Frecuencia para diferentes M\")\n",
    "fig.show()"
   ]
  },
  {
   "cell_type": "markdown",
   "id": "43d7731a-ef56-4a3e-a2bf-f627122712c5",
   "metadata": {},
   "source": [
    "A medida que $M_2$ aumenta, observamos como se angosta la banda de paso, es decir, se reduce el ancho de banda del sistema."
   ]
  }
 ],
 "metadata": {
  "language_info": {
   "name": "python"
  }
 },
 "nbformat": 4,
 "nbformat_minor": 5
}
